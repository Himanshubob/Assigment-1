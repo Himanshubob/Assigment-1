{
 "cells": [
  {
   "cell_type": "markdown",
   "id": "16070c86",
   "metadata": {},
   "source": [
    "# Q2..\n"
   ]
  },
  {
   "cell_type": "code",
   "execution_count": 1,
   "id": "4c50e60a",
   "metadata": {},
   "outputs": [
    {
     "name": "stdout",
     "output_type": "stream",
     "text": [
      "55\n"
     ]
    }
   ],
   "source": [
    "#sum of 10 natural number using for loops\n",
    "sum=0\n",
    "for i in range(11):\n",
    "    sum+=i\n",
    "print(sum)"
   ]
  },
  {
   "cell_type": "code",
   "execution_count": 2,
   "id": "15b8461a",
   "metadata": {},
   "outputs": [
    {
     "name": "stdout",
     "output_type": "stream",
     "text": [
      "3628800\n"
     ]
    }
   ],
   "source": [
    "#product of 10 natural number using for loop\n",
    "pro=1\n",
    "for i in range(1,11):\n",
    "    pro=pro*i\n",
    "print(pro)"
   ]
  },
  {
   "cell_type": "code",
   "execution_count": 5,
   "id": "66268c29",
   "metadata": {},
   "outputs": [
    {
     "name": "stdout",
     "output_type": "stream",
     "text": [
      "55\n"
     ]
    }
   ],
   "source": [
    "#sum of 10 natural number using while loop\n",
    "\n",
    "i=1\n",
    "sum=0\n",
    "while(i<=10):\n",
    "    sum=sum+i\n",
    "    i=i+1\n",
    "print(sum)"
   ]
  },
  {
   "cell_type": "code",
   "execution_count": 6,
   "id": "63d6bdef",
   "metadata": {},
   "outputs": [
    {
     "name": "stdout",
     "output_type": "stream",
     "text": [
      "3628800\n"
     ]
    }
   ],
   "source": [
    "#product of 10 number using for while loop\n",
    "i=1\n",
    "pro=1\n",
    "while(i<=10):\n",
    "    pro*=i\n",
    "    i+=1\n",
    "print(pro)"
   ]
  },
  {
   "cell_type": "markdown",
   "id": "ebad9b84",
   "metadata": {},
   "source": [
    "# Q3.."
   ]
  },
  {
   "cell_type": "code",
   "execution_count": 6,
   "id": "6d2f09c5",
   "metadata": {},
   "outputs": [
    {
     "name": "stdout",
     "output_type": "stream",
     "text": [
      "Enter the units number310\n",
      " the user will be chare Rs.20 per unite and the total charge is : 6200\n"
     ]
    }
   ],
   "source": [
    "m=eval(input(\"Enter the units number\"))\n",
    "if( m<=100 and m>0):\n",
    "    print (\"the user will be charge Rs. 4.5 per unite and the total charge is  \" , m*4.5)\n",
    "elif(m<=200 and m>100):\n",
    "    print(\" the user will be charge Rs. 6 per unite and the total charge is :\",m*6)\n",
    "elif(m<=300 and m>200):\n",
    "    print(\"the user will be charge Rs. 10 per unite  and the total charge is :\",m*10)\n",
    "else:\n",
    "    print (\" the user will be chare Rs.20 per unite and the total charge is :\",m*20)"
   ]
  },
  {
   "cell_type": "markdown",
   "id": "5b903ed8",
   "metadata": {},
   "source": [
    "# Q5..."
   ]
  },
  {
   "cell_type": "code",
   "execution_count": 15,
   "id": "568dfa18",
   "metadata": {},
   "outputs": [
    {
     "name": "stdout",
     "output_type": "stream",
     "text": [
      "the number of a is given string \n",
      "4\n",
      "the number of e is given string \n",
      "3\n",
      "the number of i is given string \n",
      "2\n",
      "the number of o is given string \n",
      "2\n",
      "the number of u is given string \n",
      "0\n",
      "the number of I is given string \n",
      "1\n"
     ]
    }
   ],
   "source": [
    "string = \"I want to become a data scientist\"\n",
    "\n",
    "print (\"the number of a is given string \")\n",
    "print(string.count(\"a\"))\n",
    "print (\"the number of e is given string \")\n",
    "print(string.count(\"e\"))\n",
    "print (\"the number of i is given string \")\n",
    "print(string.count(\"i\"))\n",
    "print (\"the number of o is given string \")\n",
    "\n",
    "print(string.count(\"o\"))\n",
    "print (\"the number of u is given string \")\n",
    "\n",
    "print(string.count(\"u\"))\n",
    "print (\"the number of I is given string \")\n",
    "print(string.count(\"I\"))\n",
    "\n",
    "\n",
    "\n",
    "    "
   ]
  },
  {
   "cell_type": "markdown",
   "id": "9ae3e536",
   "metadata": {},
   "source": [
    "# Q4..."
   ]
  },
  {
   "cell_type": "code",
   "execution_count": 10,
   "id": "04ed2b35",
   "metadata": {},
   "outputs": [
    {
     "name": "stdout",
     "output_type": "stream",
     "text": [
      "1\n",
      "8\n",
      "27\n",
      "64\n",
      "125\n",
      "216\n",
      "343\n",
      "512\n",
      "729\n",
      "1000\n",
      "1331\n",
      "1728\n",
      "2197\n",
      "2744\n",
      "3375\n",
      "4096\n",
      "4913\n",
      "5832\n",
      "6859\n",
      "8000\n",
      "9261\n",
      "10648\n",
      "12167\n",
      "13824\n",
      "15625\n",
      "17576\n",
      "19683\n",
      "21952\n",
      "24389\n",
      "27000\n",
      "29791\n",
      "32768\n",
      "35937\n",
      "39304\n",
      "42875\n",
      "46656\n",
      "50653\n",
      "54872\n",
      "59319\n",
      "64000\n",
      "68921\n",
      "74088\n",
      "79507\n",
      "85184\n",
      "91125\n",
      "97336\n",
      "103823\n",
      "110592\n",
      "117649\n",
      "125000\n",
      "132651\n",
      "140608\n",
      "148877\n",
      "157464\n",
      "166375\n",
      "175616\n",
      "185193\n",
      "195112\n",
      "205379\n",
      "216000\n",
      "226981\n",
      "238328\n",
      "250047\n",
      "262144\n",
      "274625\n",
      "287496\n",
      "300763\n",
      "314432\n",
      "328509\n",
      "343000\n",
      "357911\n",
      "373248\n",
      "389017\n",
      "405224\n",
      "421875\n",
      "438976\n",
      "456533\n",
      "474552\n",
      "493039\n",
      "512000\n",
      "531441\n",
      "551368\n",
      "571787\n",
      "592704\n",
      "614125\n",
      "636056\n",
      "658503\n",
      "681472\n",
      "704969\n",
      "729000\n",
      "753571\n",
      "778688\n",
      "804357\n",
      "830584\n",
      "857375\n",
      "884736\n",
      "912673\n",
      "941192\n",
      "970299\n",
      "1000000\n"
     ]
    }
   ],
   "source": [
    "l=[]\n",
    "for i in range(1, 101):\n",
    "    i**3\n",
    "    print(i**3)\n",
    "  "
   ]
  },
  {
   "cell_type": "code",
   "execution_count": null,
   "id": "12fc59e3",
   "metadata": {},
   "outputs": [],
   "source": []
  }
 ],
 "metadata": {
  "kernelspec": {
   "display_name": "Python 3 (ipykernel)",
   "language": "python",
   "name": "python3"
  },
  "language_info": {
   "codemirror_mode": {
    "name": "ipython",
    "version": 3
   },
   "file_extension": ".py",
   "mimetype": "text/x-python",
   "name": "python",
   "nbconvert_exporter": "python",
   "pygments_lexer": "ipython3",
   "version": "3.10.9"
  }
 },
 "nbformat": 4,
 "nbformat_minor": 5
}
